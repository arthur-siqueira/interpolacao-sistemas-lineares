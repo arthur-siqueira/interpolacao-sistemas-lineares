{
  "nbformat": 4,
  "nbformat_minor": 0,
  "metadata": {
    "colab": {
      "provenance": [],
      "authorship_tag": "ABX9TyOZ+MEig10z2B7a/tuyPWAQ",
      "include_colab_link": true
    },
    "kernelspec": {
      "name": "python3",
      "display_name": "Python 3"
    },
    "language_info": {
      "name": "python"
    }
  },
  "cells": [
    {
      "cell_type": "markdown",
      "metadata": {
        "id": "view-in-github",
        "colab_type": "text"
      },
      "source": [
        "<a href=\"https://colab.research.google.com/github/arthur-siqueira/interpolacao-sistemas-lineares/blob/main/interpolacao_sistemas_lineares.ipynb\" target=\"_parent\"><img src=\"https://colab.research.google.com/assets/colab-badge.svg\" alt=\"Open In Colab\"/></a>"
      ]
    },
    {
      "cell_type": "code",
      "execution_count": 2,
      "metadata": {
        "id": "PQhN_XUZwrj8"
      },
      "outputs": [],
      "source": [
        "import numpy as np\n",
        "\n",
        "\n",
        "x_pontos = np.array([0, 1, 2])\n",
        "y_pontos = np.array([1, 3, 2])\n",
        "\n",
        "n = len(x_pontos)\n",
        "A = np.zeros((n, n))\n",
        "for i in range(n):\n",
        "  for j in range(n):\n",
        "    A[i, j] = x_pontos[i]**j"
      ]
    }
  ]
}