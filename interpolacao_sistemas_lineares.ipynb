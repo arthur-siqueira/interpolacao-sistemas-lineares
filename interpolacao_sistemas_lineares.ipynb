{
  "nbformat": 4,
  "nbformat_minor": 0,
  "metadata": {
    "colab": {
      "provenance": [],
      "authorship_tag": "ABX9TyOX1YFZx17Ts9Vs09Lgtsqr"
    },
    "kernelspec": {
      "name": "python3",
      "display_name": "Python 3"
    },
    "language_info": {
      "name": "python"
    }
  },
  "cells": [
    {
      "cell_type": "code",
      "execution_count": null,
      "metadata": {
        "id": "PQhN_XUZwrj8"
      },
      "outputs": [],
      "source": [
        "import numpy as np\n",
        "import matplotlib.pyplot as plt\n",
        "\n",
        "\n",
        "def interpolacao_polinomial(x_pontos, y_pontos):\n",
        "  \"\"\"\n",
        "  Calcula os coeficientes de um polinomio interpolador.\n",
        "  A função gera e resolve o sistema linear Ac = y, onde A é a matriz de Vandermonde.\n",
        "\n",
        "  Args:\n",
        "    x_pontos (np.array): Coordenadas x dos pontos.\n",
        "    y_pontos (np.array): Coordenadas y dos pontos.\n",
        "\n",
        "  Returns:\n",
        "    np.array: Vetor de coeficientes do polinômio [c0, c1, ..., cn-1]\n",
        "  \"\"\"\n",
        "\n",
        "  n = len(x_pontos)\n",
        "  # Gera a matriz de Vandermonde A\n",
        "  A = np.zeros((n, n))\n",
        "  for i in range(n):\n",
        "    for j in range(n):\n",
        "      A[i, j] = x_pontos[i]**j\n",
        "\n",
        "  # Resolve um sistema linear Ac = y para encontrar os coeficientes c\n",
        "  c = np.linalg.solve(A, y_pontos)\n",
        "\n",
        "  return c"
      ]
    },
    {
      "cell_type": "code",
      "source": [
        "def avaliar_polinomio(coefs, x_valores):\n",
        "  \"\"\"Avalia o polinômio para um conjunto de valores x.\"\"\"\n",
        "  n = len(coefs)\n",
        "  resultado = np.zeros_like(x_valores, dtype=float)\n",
        "  for i in range(n):\n",
        "    resultado += coefs[i] * (x_valores**i)\n",
        "  return resultado"
      ],
      "metadata": {
        "id": "86GPll9odaIe"
      },
      "execution_count": 1,
      "outputs": []
    },
    {
      "cell_type": "code",
      "source": [
        "def spline_cubica_natural(x_pontos, y_pontos):\n",
        "  \"\"\"\n",
        "  Calcula os coeficientes para uma spline cúbica natural.\n",
        "    A função resolve um sistema linear tridiagonal para encontrar as segundas derivadas\n",
        "    e então calcula os coeficientes de cada segmento cúbico.\n",
        "\n",
        "    Args:\n",
        "        x_pontos (np.array): Coordenadas x dos pontos.\n",
        "        y_pontos (np.array): Coordenadas y dos pontos.\n",
        "\n",
        "    Returns:\n",
        "        np.array: Matriz de coeficientes (n-1 x 4) onde cada linha é [ai, bi, ci, di].\n",
        "  \"\"\"\n",
        "\n",
        "  n = len(x_pontos)\n",
        "  # h representa a distância entre os pontos x consecutivos\n",
        "  h = np.diff(x_pontos)\n",
        "\n",
        "  # Monta a matriz tridiagonal A para o sistema que resolve as segundas derivadas (M)\n",
        "  A = np.zeros((n-2, n-2))\n",
        "  for i in range(n-2):\n",
        "    A[i, i] = 2 * (h[i] + h[i+1])\n",
        "    if i < n - 3:\n",
        "      A[i, i+1] = h[i+1]\n",
        "      A[i+1, i] = h[i+1]\n",
        "\n",
        "  # Monta o vetor B do sistema AM = B\n",
        "  B = np.zeros(n - 2)\n",
        "  for i in range(n - 2):\n",
        "    B[i] = 6 * ((y_pontos[i+2] - y_pontos[i+1]) / h[i+1] - (y_pontos[i+1] - y_pontos[i]) / h[i])\n",
        "\n",
        "  # Resolve o sistema para encontrar as segundas derivadas nos pontos internos\n",
        "    M_internos = np.linalg.solve(A, B)\n",
        "\n",
        "    # M completo, com M0 = Mn-1 = 0 para a spline natural\n",
        "    M = np.concatenate(([0], M_internos, [0]))\n",
        "\n",
        "    # Calcula os coeficientes de cada segmento da spline\n",
        "    coefs = np.zeros((n - 1, 4))\n",
        "    for i in range(n - 1):\n",
        "        a_i = y_pontos[i] # a\n",
        "        b_i = (y_pontos[i+1] - y_pontos[i]) / h[i] - h[i] * (2 * M[i] + M[i+1]) / 6 # b\n",
        "        c_i = M[i] / 2 # c\n",
        "        d_i = (M[i+1] - M[i]) / (6 * h[i]) # d\n",
        "        coefs[i, :] = [a_i, b_i, c_i, d_i]\n",
        "\n",
        "    return coefs"
      ],
      "metadata": {
        "id": "fMT1ePS2HR-M"
      },
      "execution_count": 1,
      "outputs": []
    }
  ]
}