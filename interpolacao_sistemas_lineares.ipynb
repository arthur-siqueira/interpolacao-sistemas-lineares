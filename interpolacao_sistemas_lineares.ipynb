{
  "nbformat": 4,
  "nbformat_minor": 0,
  "metadata": {
    "colab": {
      "provenance": [],
      "authorship_tag": "ABX9TyMpUCc/wdDgkRG1Ge+tgj1G",
      "include_colab_link": true
    },
    "kernelspec": {
      "name": "python3",
      "display_name": "Python 3"
    },
    "language_info": {
      "name": "python"
    }
  },
  "cells": [
    {
      "cell_type": "markdown",
      "metadata": {
        "id": "view-in-github",
        "colab_type": "text"
      },
      "source": [
        "<a href=\"https://colab.research.google.com/github/arthur-siqueira/interpolacao-sistemas-lineares/blob/main/interpolacao_sistemas_lineares.ipynb\" target=\"_parent\"><img src=\"https://colab.research.google.com/assets/colab-badge.svg\" alt=\"Open In Colab\"/></a>"
      ]
    },
    {
      "cell_type": "code",
      "execution_count": 1,
      "metadata": {
        "id": "PQhN_XUZwrj8"
      },
      "outputs": [],
      "source": [
        "import numpy as np\n",
        "import matplotlib.pyplot as plt\n",
        "\n",
        "\n",
        "def interpolacao_polinomial(x_pontos, y_pontos):\n",
        "  \"\"\"\n",
        "  Calcula os coeficientes de um polinomio interpolador.\n",
        "  A função gera e resolve o sistema linear Ac = y, onde A é a matriz de Vandermonde.\n",
        "\n",
        "  Args:\n",
        "    x_pontos (np.array): Coordenadas x dos pontos.\n",
        "    y_pontos (np.array): Coordenadas y dos pontos.\n",
        "\n",
        "  Returns:\n",
        "    np.array: Vetor de coeficientes do polinômio [c0, c1, ..., cn-1]\n",
        "  \"\"\"\n",
        "\n",
        "  n = len(x_pontos)\n",
        "  # Gera a matriz de Vandermonde A\n",
        "  A = np.zeros((n, n))\n",
        "  for i in range(n):\n",
        "    for j in range(n):\n",
        "      A[i, j] = x_pontos[i]**j\n",
        "\n",
        "  # Resolve um sistema linear Ac = y para encontrar os coeficientes c\n",
        "  c = np.linalg.solve(A, y_pontos)\n",
        "\n",
        "  return c"
      ]
    },
    {
      "cell_type": "code",
      "source": [],
      "metadata": {
        "id": "86GPll9odaIe"
      },
      "execution_count": null,
      "outputs": []
    }
  ]
}