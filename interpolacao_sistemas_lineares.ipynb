{
  "nbformat": 4,
  "nbformat_minor": 0,
  "metadata": {
    "colab": {
      "provenance": [],
      "authorship_tag": "ABX9TyNz1/8s8QxkjrofmzKpm+Ie"
    },
    "kernelspec": {
      "name": "python3",
      "display_name": "Python 3"
    },
    "language_info": {
      "name": "python"
    }
  },
  "cells": [
    {
      "cell_type": "code",
      "execution_count": null,
      "metadata": {
        "id": "PQhN_XUZwrj8"
      },
      "outputs": [],
      "source": [
        "import numpy as np\n",
        "import matplotlib.pyplot as plt\n",
        "\n",
        "\n",
        "def interpolacao_polinomial(x_pontos, y_pontos):\n",
        "  \"\"\"\n",
        "  Calcula os coeficientes de um polinomio interpolador.\n",
        "  A função gera e resolve o sistema linear Ac = y, onde A é a matriz de Vandermonde.\n",
        "\n",
        "  Args:\n",
        "    x_pontos (np.array): Coordenadas x dos pontos.\n",
        "    y_pontos (np.array): Coordenadas y dos pontos.\n",
        "\n",
        "  Returns:\n",
        "    np.array: Vetor de coeficientes do polinômio [c0, c1, ..., cn-1]\n",
        "  \"\"\"\n",
        "\n",
        "  n = len(x_pontos)\n",
        "  # Gera a matriz de Vandermonde A\n",
        "  A = np.zeros((n, n))\n",
        "  for i in range(n):\n",
        "    for j in range(n):\n",
        "      A[i, j] = x_pontos[i]**j\n",
        "\n",
        "  # Resolve um sistema linear Ac = y para encontrar os coeficientes c\n",
        "  c = np.linalg.solve(A, y_pontos)\n",
        "\n",
        "  return c"
      ]
    },
    {
      "cell_type": "code",
      "source": [
        "def avaliar_polinomio(coefs, x_valores):\n",
        "  \"\"\"Avalia o polinômio para um conjunto de valores x.\"\"\"\n",
        "  n = len(coefs)\n",
        "  resultado = np.zeros_like(x_valores, dtype=float)\n",
        "  for i in range(n):\n",
        "    resultado += coefs[i] * (x_valores**i)\n",
        "  return resultado"
      ],
      "metadata": {
        "id": "86GPll9odaIe"
      },
      "execution_count": 1,
      "outputs": []
    }
  ]
}